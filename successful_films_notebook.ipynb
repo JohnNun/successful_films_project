{
 "cells": [
  {
   "cell_type": "markdown",
   "metadata": {},
   "source": [
    "# **Succesful Film Genres**\n",
    "By Jonathan Nunez"
   ]
  },
  {
   "cell_type": "markdown",
   "metadata": {},
   "source": [
    "## Business Understanding\n",
    "The company is looking into expanding into the box office market. The company sees the potential income in creating their own original video content through the use of their own new movie studio. I was tasked with exploring what types of films are currently doing the best at the box office. As the company is looking for the genre(s) that are doing the best, I plan to narrow this down by finding which genre(s) yields the highest return on investment on average."
   ]
  },
  {
   "cell_type": "markdown",
   "metadata": {},
   "source": [
    "## Data Understanding\n",
    "The data being used to fulfill this task is the [IMDB](https://www.imdb.com/) movie database, [Box Office Mojo](https://www.boxofficemojo.com/), and [The Numbers](https://www.the-numbers.com/) datasets. The data in The Numbers contains movie records ranging as early as 1920 up to 2019, while the IMBD, and the Box Office Mojo data is more focused between 2010 through 2019. Among the three datasets, you can find information such the genre or genres the listed film falls under, the date the film was released, both domestic and foreign gross, to even the production budget of the film."
   ]
  },
  {
   "cell_type": "code",
   "execution_count": 1,
   "metadata": {},
   "outputs": [],
   "source": [
    "# Importing necessary tools\n",
    "import pandas as pd\n",
    "import numpy as np\n",
    "import sqlite3"
   ]
  },
  {
   "cell_type": "code",
   "execution_count": 2,
   "metadata": {},
   "outputs": [],
   "source": [
    "# Connecting to the IMDB film database\n",
    "path = 'data/im.db'\n",
    "conn = sqlite3.connect(path)\n",
    "\n",
    "im_db = pd.read_sql(\"\"\"\n",
    "                    SELECT *\n",
    "                      FROM sqlite_master\n",
    "                    \"\"\"\n",
    "                    , conn\n",
    "                   )"
   ]
  },
  {
   "cell_type": "code",
   "execution_count": 3,
   "metadata": {},
   "outputs": [],
   "source": [
    "# Importing CSV files used for The Numbers and Box Office Mojo\n",
    "bom_df = pd.read_csv('data/bom.movie_gross.csv.gz')\n",
    "the_num_df = pd.read_csv('data/tn.movie_budgets.csv.gz')"
   ]
  },
  {
   "cell_type": "code",
   "execution_count": 4,
   "metadata": {},
   "outputs": [],
   "source": [
    "# Writing a quarry to contain the data needed for the project and assigning it to a variable\n",
    "q = \"\"\"\n",
    "    SELECT primary_title AS 'title', \n",
    "           start_year AS 'release_yr', \n",
    "           genres, \n",
    "           averagerating AS 'avg_rating'\n",
    "      FROM movie_basics\n",
    "      JOIN movie_ratings\n",
    "           USING(movie_id)\n",
    "     ORDER BY primary_title;\n",
    "    \"\"\"\n",
    "imdb_df = pd.read_sql(q, conn)"
   ]
  },
  {
   "cell_type": "markdown",
   "metadata": {},
   "source": [
    "## Data Preparation\n",
    "For data preparation, I first replace column names for both The Numbers, and the Box Office Mojo dataframes to make all column names in the datasets being used as uniform as possible, this will also make it easier to combine the datasets. From there I looked through the data with shared column names and made sure the data itself was uniform and of the proper data type."
   ]
  },
  {
   "cell_type": "code",
   "execution_count": 5,
   "metadata": {},
   "outputs": [],
   "source": [
    "# Changing column names to be uniform with other datasets\n",
    "the_num_df.columns = the_num_df.columns.str.replace('movie', 'title')\n",
    "the_num_df.columns = the_num_df.columns.str.replace('worldwide_gross', 'foreign_gross')\n",
    "the_num_df.columns = the_num_df.columns.str.replace('release_date', 'release_yr')"
   ]
  },
  {
   "cell_type": "code",
   "execution_count": 6,
   "metadata": {},
   "outputs": [],
   "source": [
    "bom_df.columns = bom_df.columns.str.replace('year', 'release_yr')"
   ]
  },
  {
   "cell_type": "code",
   "execution_count": 7,
   "metadata": {},
   "outputs": [],
   "source": [
    "# Removing month and day from date for uniformity with other datasets \n",
    "the_num_df['release_yr'] = the_num_df['release_yr'].str.split(',').str[1]"
   ]
  },
  {
   "cell_type": "markdown",
   "metadata": {},
   "source": [
    "Both the Box Office Mojo, and The Numbers dataframes contain domestic and foreign gross columns, but they either contain a currency symbol or the data type is formatted as a non-numerical dtype. I created a function that will take in a dataframe as well as a column name or list of columns containing numerical values, and it will remove all symbols as well as white spaces in the values, and then convert the result into an integer data type. If the data type of the column is a different numerical type other than integer, it will simply convert the data type into integer."
   ]
  },
  {
   "cell_type": "code",
   "execution_count": 8,
   "metadata": {},
   "outputs": [],
   "source": [
    "# Function to remove symbols from values and convert specified Object dtypes with numeric values into integer\n",
    "def symbol_removal_dtype_con(df, columns):\n",
    "    \n",
    "    \"\"\"\n",
    "    Removes symbols from specified columns with numeric values in a dataset and converts dtype to integer.\n",
    "    \n",
    "    Note: Any NaN or Null values in the dataset must be dropped or filled with place holder values before running dataframe\n",
    "          through function.\n",
    "    \n",
    "    Function Parameters:\n",
    "    df: Pandas dataframe\n",
    "    columns: Column name, or list of columns with numeric values to remove symbols and/or convert into integer data type. \n",
    "    \"\"\"\n",
    "    \n",
    "    df = df.copy()\n",
    "    \n",
    "    for col in columns:\n",
    "        if df[col].dtype == 'O':\n",
    "           df[col] = df[col].astype(str).str.replace(r'[^\\w\\s]', '', regex=True) #Line of code that removes symbols\n",
    "           df[col] = df[col].astype('int64')                                     #Line of code that converts dtypes to integers\n",
    "        else:\n",
    "            df[col] = df[col].astype('int64')\n",
    "    return df"
   ]
  },
  {
   "cell_type": "code",
   "execution_count": 9,
   "metadata": {},
   "outputs": [],
   "source": [
    "# Filling NaN values with zero as place holder to run through symbol_removal_dtype_con function\n",
    "bom_df = bom_df.fillna(0)"
   ]
  },
  {
   "cell_type": "code",
   "execution_count": 10,
   "metadata": {
    "scrolled": false
   },
   "outputs": [],
   "source": [
    "the_num_df_clean = symbol_removal_dtype_con(the_num_df, ['production_budget', 'domestic_gross', 'foreign_gross', 'release_yr'])"
   ]
  },
  {
   "cell_type": "code",
   "execution_count": 11,
   "metadata": {},
   "outputs": [],
   "source": [
    "bom_df_clean = symbol_removal_dtype_con(bom_df, ['domestic_gross', 'foreign_gross'])"
   ]
  },
  {
   "cell_type": "markdown",
   "metadata": {},
   "source": [
    "In the Box Office Mojo, and The Numbers dataframes there are quite a few movie title similarities, but the domestic and foreign gross are different. Box Office Mojo rounded their numbers to the nearest millionth or 100 thousandth, while The Numbers has fairly accurate numbers. While either gross value can work, I decided to get the mean of both numbers and use that outcome as my gross data as this would give me more accurate data to work with from two different sources."
   ]
  },
  {
   "cell_type": "code",
   "execution_count": 12,
   "metadata": {},
   "outputs": [],
   "source": [
    "# Concating Box Office Mojo and The Numbers data and grouping by the title column to get gross means\n",
    "column_list = ['production_budget', 'domestic_gross', 'foreign_gross', 'release_yr']\n",
    "\n",
    "the_num_bom_df = pd.concat([the_num_df_clean, bom_df_clean]).groupby('title', as_index=False)[column_list].mean()"
   ]
  },
  {
   "cell_type": "markdown",
   "metadata": {},
   "source": [
    "### Preparing Data to Merge\n",
    "After combining the Box Office Mojo dataframe with The Numbers dataframe quite a few NaN values appeared due to one dataframe being larger than the other. Since I will need to combine a third dataset into this one, I decided to create a function that will drop all rows with NaN values if it detects any, then sort the data, and reset the dataframe’s index, essentially returning a clean dataframe."
   ]
  },
  {
   "cell_type": "code",
   "execution_count": 13,
   "metadata": {},
   "outputs": [],
   "source": [
    "# Function to remove NaN and sort data by specified column name\n",
    "def clean_and_sort(df, sort_by):\n",
    "    \n",
    "    \"\"\"\n",
    "    This functions reads the dataframe and if it locates a NaN or null value it will drop the rows those values are in, and \n",
    "    proceed to sort the data by the defined column name in ascending order, as well as reseting the index.\n",
    "    \n",
    "    Function Arguments:\n",
    "    df: The dataframe wish to be cleaned and sorted\n",
    "    sort_by: The name of the column (in string format) to sort the dataframe by\n",
    "    \"\"\"\n",
    "    \n",
    "    df = df.copy()\n",
    "    \n",
    "    if pd.isna(df).any:\n",
    "        df = df.dropna().sort_values(sort_by).reset_index(drop=True)\n",
    "    else:\n",
    "        df = df.sort_values(sort_by).reset_index(drop=True)\n",
    "    return df"
   ]
  },
  {
   "cell_type": "code",
   "execution_count": 14,
   "metadata": {},
   "outputs": [],
   "source": [
    "# Dropping rows with 0 gross as 0 gross means no release date\n",
    "the_num_bom_df = the_num_bom_df[(the_num_bom_df['domestic_gross'] > 0) & (the_num_bom_df['foreign_gross'] > 0)]"
   ]
  },
  {
   "cell_type": "code",
   "execution_count": 15,
   "metadata": {},
   "outputs": [],
   "source": [
    "# Passing df through clean_and_sort function \n",
    "the_num_bom_df_clean = clean_and_sort(the_num_bom_df, 'title')"
   ]
  },
  {
   "cell_type": "code",
   "execution_count": 16,
   "metadata": {
    "scrolled": false
   },
   "outputs": [],
   "source": [
    "# Passing df through symbol_removal_dtype_con to prep for df merge\n",
    "the_num_bom_df_clean = symbol_removal_dtype_con(the_num_bom_df_clean, column_list)"
   ]
  },
  {
   "cell_type": "code",
   "execution_count": 17,
   "metadata": {
    "scrolled": false
   },
   "outputs": [],
   "source": [
    "# Merging the IMDB dataframe with The Numbers and Box Office Mojo combined dataframe\n",
    "combined_film_df = the_num_bom_df_clean.merge(imdb_df, on=['title', 'release_yr'], how='left')"
   ]
  },
  {
   "cell_type": "markdown",
   "metadata": {},
   "source": [
    "### Exploding Data\n",
    "Like in the previous combine, quite a few NaN values appeared, due to the added genre column not having the genre information a film falls under. Since the main interest for the company at this time is in the genres currently doing well in the box office, not having the movies genre isn't beneficial to the overall project, and so data missing the genres was dropped.\n",
    "\n",
    "Since the main interest is in individual genres and some films have multiple genres listed, I split the genre column to separate the genres and then use the .explode() pandas function on the dataframe with the ‘genres’ column as the parameter to create new rows for each genre. Due to .explode(), the rest of the columns autofill with a copy of the original values."
   ]
  },
  {
   "cell_type": "code",
   "execution_count": 18,
   "metadata": {},
   "outputs": [],
   "source": [
    "# Passing combined_film_df through clean_and_sort function\n",
    "combined_film_df_clean = clean_and_sort(combined_film_df, 'title')"
   ]
  },
  {
   "cell_type": "code",
   "execution_count": 19,
   "metadata": {},
   "outputs": [],
   "source": [
    "# Splitting genre column to separate multi-genre films\n",
    "combined_film_df_clean['genres'] = combined_film_df_clean['genres'].str.split(',')"
   ]
  },
  {
   "cell_type": "code",
   "execution_count": 20,
   "metadata": {
    "scrolled": false
   },
   "outputs": [
    {
     "data": {
      "text/html": [
       "<div>\n",
       "<style scoped>\n",
       "    .dataframe tbody tr th:only-of-type {\n",
       "        vertical-align: middle;\n",
       "    }\n",
       "\n",
       "    .dataframe tbody tr th {\n",
       "        vertical-align: top;\n",
       "    }\n",
       "\n",
       "    .dataframe thead th {\n",
       "        text-align: right;\n",
       "    }\n",
       "</style>\n",
       "<table border=\"1\" class=\"dataframe\">\n",
       "  <thead>\n",
       "    <tr style=\"text-align: right;\">\n",
       "      <th></th>\n",
       "      <th>title</th>\n",
       "      <th>production_budget</th>\n",
       "      <th>domestic_gross</th>\n",
       "      <th>foreign_gross</th>\n",
       "      <th>release_yr</th>\n",
       "      <th>genres</th>\n",
       "      <th>avg_rating</th>\n",
       "    </tr>\n",
       "  </thead>\n",
       "  <tbody>\n",
       "    <tr>\n",
       "      <th>0</th>\n",
       "      <td>10 Cloverfield Lane</td>\n",
       "      <td>5000000</td>\n",
       "      <td>72091499</td>\n",
       "      <td>73193211</td>\n",
       "      <td>2016</td>\n",
       "      <td>Drama</td>\n",
       "      <td>7.2</td>\n",
       "    </tr>\n",
       "    <tr>\n",
       "      <th>0</th>\n",
       "      <td>10 Cloverfield Lane</td>\n",
       "      <td>5000000</td>\n",
       "      <td>72091499</td>\n",
       "      <td>73193211</td>\n",
       "      <td>2016</td>\n",
       "      <td>Horror</td>\n",
       "      <td>7.2</td>\n",
       "    </tr>\n",
       "    <tr>\n",
       "      <th>0</th>\n",
       "      <td>10 Cloverfield Lane</td>\n",
       "      <td>5000000</td>\n",
       "      <td>72091499</td>\n",
       "      <td>73193211</td>\n",
       "      <td>2016</td>\n",
       "      <td>Mystery</td>\n",
       "      <td>7.2</td>\n",
       "    </tr>\n",
       "    <tr>\n",
       "      <th>1</th>\n",
       "      <td>10 Days in a Madhouse</td>\n",
       "      <td>12000000</td>\n",
       "      <td>14616</td>\n",
       "      <td>14616</td>\n",
       "      <td>2015</td>\n",
       "      <td>Drama</td>\n",
       "      <td>6.7</td>\n",
       "    </tr>\n",
       "    <tr>\n",
       "      <th>2</th>\n",
       "      <td>12 Strong</td>\n",
       "      <td>35000000</td>\n",
       "      <td>45809856</td>\n",
       "      <td>46359189</td>\n",
       "      <td>2018</td>\n",
       "      <td>Action</td>\n",
       "      <td>6.6</td>\n",
       "    </tr>\n",
       "    <tr>\n",
       "      <th>...</th>\n",
       "      <td>...</td>\n",
       "      <td>...</td>\n",
       "      <td>...</td>\n",
       "      <td>...</td>\n",
       "      <td>...</td>\n",
       "      <td>...</td>\n",
       "      <td>...</td>\n",
       "    </tr>\n",
       "    <tr>\n",
       "      <th>1292</th>\n",
       "      <td>Zootopia</td>\n",
       "      <td>150000000</td>\n",
       "      <td>341284124</td>\n",
       "      <td>850964808</td>\n",
       "      <td>2016</td>\n",
       "      <td>Animation</td>\n",
       "      <td>8.0</td>\n",
       "    </tr>\n",
       "    <tr>\n",
       "      <th>1292</th>\n",
       "      <td>Zootopia</td>\n",
       "      <td>150000000</td>\n",
       "      <td>341284124</td>\n",
       "      <td>850964808</td>\n",
       "      <td>2016</td>\n",
       "      <td>Comedy</td>\n",
       "      <td>8.0</td>\n",
       "    </tr>\n",
       "    <tr>\n",
       "      <th>1293</th>\n",
       "      <td>xXx: Return of Xander Cage</td>\n",
       "      <td>85000000</td>\n",
       "      <td>44898413</td>\n",
       "      <td>345033359</td>\n",
       "      <td>2017</td>\n",
       "      <td>Action</td>\n",
       "      <td>5.2</td>\n",
       "    </tr>\n",
       "    <tr>\n",
       "      <th>1293</th>\n",
       "      <td>xXx: Return of Xander Cage</td>\n",
       "      <td>85000000</td>\n",
       "      <td>44898413</td>\n",
       "      <td>345033359</td>\n",
       "      <td>2017</td>\n",
       "      <td>Adventure</td>\n",
       "      <td>5.2</td>\n",
       "    </tr>\n",
       "    <tr>\n",
       "      <th>1293</th>\n",
       "      <td>xXx: Return of Xander Cage</td>\n",
       "      <td>85000000</td>\n",
       "      <td>44898413</td>\n",
       "      <td>345033359</td>\n",
       "      <td>2017</td>\n",
       "      <td>Thriller</td>\n",
       "      <td>5.2</td>\n",
       "    </tr>\n",
       "  </tbody>\n",
       "</table>\n",
       "<p>3327 rows × 7 columns</p>\n",
       "</div>"
      ],
      "text/plain": [
       "                           title  production_budget  domestic_gross  \\\n",
       "0            10 Cloverfield Lane            5000000        72091499   \n",
       "0            10 Cloverfield Lane            5000000        72091499   \n",
       "0            10 Cloverfield Lane            5000000        72091499   \n",
       "1          10 Days in a Madhouse           12000000           14616   \n",
       "2                      12 Strong           35000000        45809856   \n",
       "...                          ...                ...             ...   \n",
       "1292                    Zootopia          150000000       341284124   \n",
       "1292                    Zootopia          150000000       341284124   \n",
       "1293  xXx: Return of Xander Cage           85000000        44898413   \n",
       "1293  xXx: Return of Xander Cage           85000000        44898413   \n",
       "1293  xXx: Return of Xander Cage           85000000        44898413   \n",
       "\n",
       "      foreign_gross  release_yr     genres  avg_rating  \n",
       "0          73193211        2016      Drama         7.2  \n",
       "0          73193211        2016     Horror         7.2  \n",
       "0          73193211        2016    Mystery         7.2  \n",
       "1             14616        2015      Drama         6.7  \n",
       "2          46359189        2018     Action         6.6  \n",
       "...             ...         ...        ...         ...  \n",
       "1292      850964808        2016  Animation         8.0  \n",
       "1292      850964808        2016     Comedy         8.0  \n",
       "1293      345033359        2017     Action         5.2  \n",
       "1293      345033359        2017  Adventure         5.2  \n",
       "1293      345033359        2017   Thriller         5.2  \n",
       "\n",
       "[3327 rows x 7 columns]"
      ]
     },
     "execution_count": 20,
     "metadata": {},
     "output_type": "execute_result"
    }
   ],
   "source": [
    "# Running .explode() \n",
    "combined_film_df_clean = combined_film_df_clean.explode('genres')\n",
    "combined_film_df_clean"
   ]
  },
  {
   "cell_type": "markdown",
   "metadata": {},
   "source": [
    "For the listed films with multiple genres, it is impossible to say which specific genre contributed the most into in a films overall gross as well as which genre cost the studio the most. So, I concluded that the best course of action to get a close total gross for each genre in a film was to simply divide the 'production_budget', 'domestic_gross', and 'foreign_gross' columns by the number of times the film appears in the dataset. In doing so, I was able to get the proper monetary value divided equally amongst the genres a film is under."
   ]
  },
  {
   "cell_type": "code",
   "execution_count": 21,
   "metadata": {},
   "outputs": [],
   "source": [
    "# Dividing monetary columns by title value counts\n",
    "money_columns = ['production_budget', 'domestic_gross', 'foreign_gross']\n",
    "title_counts = combined_film_df_clean['title'].value_counts()\n",
    "\n",
    "combined_film_df_clean[money_columns] = combined_film_df_clean.apply(lambda row: row[money_columns] / title_counts[row['title']], axis=1)\n",
    "\n",
    "# Passing data symbol_removal_dtype_con and clean_and_sort function for last clean\n",
    "combined_film_df_clean = symbol_removal_dtype_con(combined_film_df_clean, money_columns)\n",
    "combined_film_df_clean = clean_and_sort(combined_film_df_clean, 'title')"
   ]
  },
  {
   "cell_type": "markdown",
   "metadata": {},
   "source": [
    "### Return on Investment\n",
    "In the current data, the gross values don't represent the total profit the studio made from the film, but instead the total amount of money it simply generated without considering the film's production expenditures. To get the total profit as a percentage for each film and its genre(s), I used the return on investment equation to create new columns with the RoI results for domestic, foreign gross, and overall gross. In doing so we get a more accurate representation of profit divided amongst the genres of the film."
   ]
  },
  {
   "cell_type": "code",
   "execution_count": 22,
   "metadata": {
    "scrolled": false
   },
   "outputs": [
    {
     "data": {
      "text/html": [
       "<div>\n",
       "<style scoped>\n",
       "    .dataframe tbody tr th:only-of-type {\n",
       "        vertical-align: middle;\n",
       "    }\n",
       "\n",
       "    .dataframe tbody tr th {\n",
       "        vertical-align: top;\n",
       "    }\n",
       "\n",
       "    .dataframe thead th {\n",
       "        text-align: right;\n",
       "    }\n",
       "</style>\n",
       "<table border=\"1\" class=\"dataframe\">\n",
       "  <thead>\n",
       "    <tr style=\"text-align: right;\">\n",
       "      <th></th>\n",
       "      <th>title</th>\n",
       "      <th>production_budget</th>\n",
       "      <th>domestic_gross</th>\n",
       "      <th>foreign_gross</th>\n",
       "      <th>release_yr</th>\n",
       "      <th>genres</th>\n",
       "      <th>avg_rating</th>\n",
       "      <th>roi_domestic(%)</th>\n",
       "      <th>roi_foreign(%)</th>\n",
       "      <th>roi_total(%)</th>\n",
       "    </tr>\n",
       "  </thead>\n",
       "  <tbody>\n",
       "    <tr>\n",
       "      <th>0</th>\n",
       "      <td>10 Cloverfield Lane</td>\n",
       "      <td>1666666</td>\n",
       "      <td>24030499</td>\n",
       "      <td>24397737</td>\n",
       "      <td>2016</td>\n",
       "      <td>Drama</td>\n",
       "      <td>7.2</td>\n",
       "      <td>1341.830517</td>\n",
       "      <td>1363.864806</td>\n",
       "      <td>2805.695322</td>\n",
       "    </tr>\n",
       "    <tr>\n",
       "      <th>1</th>\n",
       "      <td>10 Cloverfield Lane</td>\n",
       "      <td>1666666</td>\n",
       "      <td>24030499</td>\n",
       "      <td>24397737</td>\n",
       "      <td>2016</td>\n",
       "      <td>Horror</td>\n",
       "      <td>7.2</td>\n",
       "      <td>1341.830517</td>\n",
       "      <td>1363.864806</td>\n",
       "      <td>2805.695322</td>\n",
       "    </tr>\n",
       "    <tr>\n",
       "      <th>2</th>\n",
       "      <td>10 Cloverfield Lane</td>\n",
       "      <td>1666666</td>\n",
       "      <td>24030499</td>\n",
       "      <td>24397737</td>\n",
       "      <td>2016</td>\n",
       "      <td>Mystery</td>\n",
       "      <td>7.2</td>\n",
       "      <td>1341.830517</td>\n",
       "      <td>1363.864806</td>\n",
       "      <td>2805.695322</td>\n",
       "    </tr>\n",
       "    <tr>\n",
       "      <th>3</th>\n",
       "      <td>10 Days in a Madhouse</td>\n",
       "      <td>12000000</td>\n",
       "      <td>14616</td>\n",
       "      <td>14616</td>\n",
       "      <td>2015</td>\n",
       "      <td>Drama</td>\n",
       "      <td>6.7</td>\n",
       "      <td>-99.878200</td>\n",
       "      <td>-99.878200</td>\n",
       "      <td>-99.756400</td>\n",
       "    </tr>\n",
       "    <tr>\n",
       "      <th>4</th>\n",
       "      <td>12 Strong</td>\n",
       "      <td>11666666</td>\n",
       "      <td>15269952</td>\n",
       "      <td>15453063</td>\n",
       "      <td>2018</td>\n",
       "      <td>Action</td>\n",
       "      <td>6.6</td>\n",
       "      <td>30.885310</td>\n",
       "      <td>32.454833</td>\n",
       "      <td>163.340144</td>\n",
       "    </tr>\n",
       "    <tr>\n",
       "      <th>...</th>\n",
       "      <td>...</td>\n",
       "      <td>...</td>\n",
       "      <td>...</td>\n",
       "      <td>...</td>\n",
       "      <td>...</td>\n",
       "      <td>...</td>\n",
       "      <td>...</td>\n",
       "      <td>...</td>\n",
       "      <td>...</td>\n",
       "      <td>...</td>\n",
       "    </tr>\n",
       "    <tr>\n",
       "      <th>3322</th>\n",
       "      <td>Zootopia</td>\n",
       "      <td>50000000</td>\n",
       "      <td>113761374</td>\n",
       "      <td>283654936</td>\n",
       "      <td>2016</td>\n",
       "      <td>Adventure</td>\n",
       "      <td>8.0</td>\n",
       "      <td>127.522748</td>\n",
       "      <td>467.309872</td>\n",
       "      <td>694.832620</td>\n",
       "    </tr>\n",
       "    <tr>\n",
       "      <th>3323</th>\n",
       "      <td>Zootopia</td>\n",
       "      <td>50000000</td>\n",
       "      <td>113761374</td>\n",
       "      <td>283654936</td>\n",
       "      <td>2016</td>\n",
       "      <td>Comedy</td>\n",
       "      <td>8.0</td>\n",
       "      <td>127.522748</td>\n",
       "      <td>467.309872</td>\n",
       "      <td>694.832620</td>\n",
       "    </tr>\n",
       "    <tr>\n",
       "      <th>3324</th>\n",
       "      <td>xXx: Return of Xander Cage</td>\n",
       "      <td>28333333</td>\n",
       "      <td>14966137</td>\n",
       "      <td>115011119</td>\n",
       "      <td>2017</td>\n",
       "      <td>Adventure</td>\n",
       "      <td>5.2</td>\n",
       "      <td>-47.178339</td>\n",
       "      <td>305.921601</td>\n",
       "      <td>358.743262</td>\n",
       "    </tr>\n",
       "    <tr>\n",
       "      <th>3325</th>\n",
       "      <td>xXx: Return of Xander Cage</td>\n",
       "      <td>28333333</td>\n",
       "      <td>14966137</td>\n",
       "      <td>115011119</td>\n",
       "      <td>2017</td>\n",
       "      <td>Action</td>\n",
       "      <td>5.2</td>\n",
       "      <td>-47.178339</td>\n",
       "      <td>305.921601</td>\n",
       "      <td>358.743262</td>\n",
       "    </tr>\n",
       "    <tr>\n",
       "      <th>3326</th>\n",
       "      <td>xXx: Return of Xander Cage</td>\n",
       "      <td>28333333</td>\n",
       "      <td>14966137</td>\n",
       "      <td>115011119</td>\n",
       "      <td>2017</td>\n",
       "      <td>Thriller</td>\n",
       "      <td>5.2</td>\n",
       "      <td>-47.178339</td>\n",
       "      <td>305.921601</td>\n",
       "      <td>358.743262</td>\n",
       "    </tr>\n",
       "  </tbody>\n",
       "</table>\n",
       "<p>3327 rows × 10 columns</p>\n",
       "</div>"
      ],
      "text/plain": [
       "                           title  production_budget  domestic_gross  \\\n",
       "0            10 Cloverfield Lane            1666666        24030499   \n",
       "1            10 Cloverfield Lane            1666666        24030499   \n",
       "2            10 Cloverfield Lane            1666666        24030499   \n",
       "3          10 Days in a Madhouse           12000000           14616   \n",
       "4                      12 Strong           11666666        15269952   \n",
       "...                          ...                ...             ...   \n",
       "3322                    Zootopia           50000000       113761374   \n",
       "3323                    Zootopia           50000000       113761374   \n",
       "3324  xXx: Return of Xander Cage           28333333        14966137   \n",
       "3325  xXx: Return of Xander Cage           28333333        14966137   \n",
       "3326  xXx: Return of Xander Cage           28333333        14966137   \n",
       "\n",
       "      foreign_gross  release_yr     genres  avg_rating  roi_domestic(%)  \\\n",
       "0          24397737        2016      Drama         7.2      1341.830517   \n",
       "1          24397737        2016     Horror         7.2      1341.830517   \n",
       "2          24397737        2016    Mystery         7.2      1341.830517   \n",
       "3             14616        2015      Drama         6.7       -99.878200   \n",
       "4          15453063        2018     Action         6.6        30.885310   \n",
       "...             ...         ...        ...         ...              ...   \n",
       "3322      283654936        2016  Adventure         8.0       127.522748   \n",
       "3323      283654936        2016     Comedy         8.0       127.522748   \n",
       "3324      115011119        2017  Adventure         5.2       -47.178339   \n",
       "3325      115011119        2017     Action         5.2       -47.178339   \n",
       "3326      115011119        2017   Thriller         5.2       -47.178339   \n",
       "\n",
       "      roi_foreign(%)  roi_total(%)  \n",
       "0        1363.864806   2805.695322  \n",
       "1        1363.864806   2805.695322  \n",
       "2        1363.864806   2805.695322  \n",
       "3         -99.878200    -99.756400  \n",
       "4          32.454833    163.340144  \n",
       "...              ...           ...  \n",
       "3322      467.309872    694.832620  \n",
       "3323      467.309872    694.832620  \n",
       "3324      305.921601    358.743262  \n",
       "3325      305.921601    358.743262  \n",
       "3326      305.921601    358.743262  \n",
       "\n",
       "[3327 rows x 10 columns]"
      ]
     },
     "execution_count": 22,
     "metadata": {},
     "output_type": "execute_result"
    }
   ],
   "source": [
    "# Creating return on investment columns\n",
    "combined_film_df_clean['roi_domestic(%)'] = (combined_film_df_clean['domestic_gross'] - combined_film_df_clean['production_budget']) / combined_film_df_clean['production_budget'] * 100\n",
    "combined_film_df_clean['roi_foreign(%)'] = (combined_film_df_clean['foreign_gross'] - combined_film_df_clean['production_budget']) / combined_film_df_clean['production_budget'] * 100\n",
    "combined_film_df_clean['roi_total(%)'] = (((combined_film_df_clean['domestic_gross'] + combined_film_df_clean['foreign_gross']) - combined_film_df_clean['production_budget']) / \n",
    "                                            combined_film_df_clean['production_budget'] * 100)\n",
    "combined_film_df_clean"
   ]
  },
  {
   "cell_type": "code",
   "execution_count": 23,
   "metadata": {},
   "outputs": [],
   "source": [
    "# Saving a cleaned and combined dataset as CSV\n",
    "combined_film_df_clean.to_csv('data/combined_film_df_clean.csv')"
   ]
  },
  {
   "cell_type": "markdown",
   "metadata": {},
   "source": [
    "## Exploratory Data Analysis"
   ]
  },
  {
   "cell_type": "code",
   "execution_count": 24,
   "metadata": {},
   "outputs": [],
   "source": [
    "# Importing plotting tools\n",
    "import matplotlib.pyplot as plt\n",
    "import matplotlib.ticker as ticker\n",
    "%matplotlib inline"
   ]
  },
  {
   "cell_type": "markdown",
   "metadata": {},
   "source": [
    "Since that gross values are in the millions, I added a formatter function to make the values in the millions easier to read in the y-axis. "
   ]
  },
  {
   "cell_type": "code",
   "execution_count": 25,
   "metadata": {},
   "outputs": [],
   "source": [
    "# Formatter function\n",
    "def millions_formatter(x, pos):\n",
    "    \"\"\"\n",
    "    The function takes in two arguments, the value and tick position, and formats the ticks to show the value \n",
    "    in a condensed and easier to read format.\n",
    "    \n",
    "    EX: 10000000 to 10M\n",
    "    \"\"\"\n",
    "    return '%1.fM' % (x*1e-6)"
   ]
  },
  {
   "cell_type": "markdown",
   "metadata": {},
   "source": [
    "### Domestic Gross\n",
    "Domestically, **the top 5 highest grossing genres are Animation, Sci-Fi, Adventure, Action, and Fantasy** with Animation generating the most money at almost **50M average** followed closely by Sci-Fi at **45M**."
   ]
  },
  {
   "cell_type": "code",
   "execution_count": 26,
   "metadata": {
    "scrolled": false
   },
   "outputs": [
    {
     "data": {
      "image/png": "[encoded data removed]",
      "text/plain": [
       "<Figure size 864x576 with 1 Axes>"
      ]
     },
     "metadata": {
      "needs_background": "light"
     },
     "output_type": "display_data"
    }
   ],
   "source": [
    "# Bar chart for domestic gross\n",
    "genres_means_dom = combined_film_df_clean.groupby(['genres'])['domestic_gross'].mean().sort_values(ascending=False)\n",
    "\n",
    "fig, ax = plt.subplots(figsize=(12, 8))\n",
    "\n",
    "ax.bar(genres_means_dom.index[:5], genres_means_dom[:5], color=['#f7d702', '#05abf7', '#0d6917', '#fc0303', '#c083f2'])\n",
    "ax.set_title('Domestic Gross Means', fontsize=20)\n",
    "ax.set_xlabel('Genres', fontsize=15)\n",
    "ax.set_ylabel('Domestic Gross in USD', fontsize=15)\n",
    "ax.set_yticks(range(0, 60000000, 10000000))\n",
    "ax.yaxis.set_major_formatter(ticker.FuncFormatter(millions_formatter));"
   ]
  },
  {
   "cell_type": "markdown",
   "metadata": {},
   "source": [
    "### Domestic Return on Investment\n",
    "The top 5 highest grossing genres in the domestic market are Animation, Sci-Fi, Adventure, Action, and Fantasy. When it comes to return on investment on the other hand, the top 5 genres are completely different than the highest grossing. **The highest returns on investment genres domestically are Mystery, Horror, Thriller, Documentary, and Romance.** While the highest grossing films may generate the most money, they seem to not generate a high return on investment like Mystery and Horror at almost at a **500% return.**"
   ]
  },
  {
   "cell_type": "code",
   "execution_count": 27,
   "metadata": {},
   "outputs": [
    {
     "data": {
      "image/png": "[encoded data removed]",
      "text/plain": [
       "<Figure size 864x576 with 1 Axes>"
      ]
     },
     "metadata": {
      "needs_background": "light"
     },
     "output_type": "display_data"
    }
   ],
   "source": [
    "# Bar chart for domestic return on investment\n",
    "roi_means_dom = combined_film_df_clean.groupby(['genres'])['roi_domestic(%)'].mean().sort_values(ascending=False)\n",
    "\n",
    "fig, ax = plt.subplots(figsize=(12, 8))\n",
    "\n",
    "ax.bar(roi_means_dom.index[:5], roi_means_dom[:5], color=['#180229', '#4b0787', '#013f94', '#fa9107', '#f578f3'])\n",
    "ax.set_title('Domestic Return on Investment', fontsize=20)\n",
    "ax.set_xlabel('Genres', fontsize=15)\n",
    "ax.set_ylabel('Domestic Return in Percentage', fontsize=15);"
   ]
  },
  {
   "cell_type": "markdown",
   "metadata": {},
   "source": [
    "### Foreign Gross\n",
    "Just like the highest domestic gross, **the highest foreign gross genres are Animation, Sci-Fi, Adventure, Action, and Fantasy.** Same as in the domestic market, it looks like in the foreign market Animation is still the highest grossing genre at about **110M** on average, with Adventure being the second highest at **100M** just a little higher than Sci-fi which did better domestically."
   ]
  },
  {
   "cell_type": "code",
   "execution_count": 28,
   "metadata": {},
   "outputs": [
    {
     "data": {
      "image/png": "[encoded data removed]",
      "text/plain": [
       "<Figure size 864x576 with 1 Axes>"
      ]
     },
     "metadata": {
      "needs_background": "light"
     },
     "output_type": "display_data"
    }
   ],
   "source": [
    "# Bar chart for foreign gross\n",
    "genres_means_for = combined_film_df_clean.groupby(['genres'])['foreign_gross'].mean().sort_values(ascending=False)\n",
    "\n",
    "fig, ax = plt.subplots(figsize=(12, 8))\n",
    "\n",
    "ax.bar(genres_means_for.index[:5], genres_means_for[:5], color=['#f7d702', '#0d6917', '#05abf7', '#fc0303', '#c083f2'])\n",
    "ax.set_title('Foreign Gross Means', fontsize=20)\n",
    "ax.set_xlabel('Genres', fontsize=15)\n",
    "ax.set_ylabel('Foreign Gross in USD', fontsize=15)\n",
    "ax.ticklabel_format(style='plain', useOffset=False, axis='y')\n",
    "ax.set_yticks(range(0, 140000000, 20000000))\n",
    "ax.yaxis.set_major_formatter(ticker.FuncFormatter(millions_formatter));"
   ]
  },
  {
   "cell_type": "markdown",
   "metadata": {},
   "source": [
    "### Foreign Return on Investment\n",
    "For the most part, the foreign RoI chart is very similar to the domestic results. For the foreign RoI, the top 5 genres are **Mystery, Horror, Thriller, Animation, and Sci-fi**. Just like the domestic RoI, mystery is the highest return with almost **800% return average**, and horror comes in second with a little under **750% average return**."
   ]
  },
  {
   "cell_type": "code",
   "execution_count": 29,
   "metadata": {},
   "outputs": [
    {
     "data": {
      "image/png": "[encoded data removed]",
      "text/plain": [
       "<Figure size 864x576 with 1 Axes>"
      ]
     },
     "metadata": {
      "needs_background": "light"
     },
     "output_type": "display_data"
    }
   ],
   "source": [
    "# Bar chart for foreign return on investment\n",
    "roi_means_for = combined_film_df_clean.groupby(['genres'])['roi_foreign(%)'].mean().sort_values(ascending=False)\n",
    "\n",
    "fig, ax = plt.subplots(figsize=(12, 8))\n",
    "\n",
    "ax.bar(roi_means_for.index[:5], roi_means_for[:5], color=['#180229', '#4b0787', '#013f94', '#f7d702', '#05abf7'])\n",
    "ax.set_title('Foreign Return on Investment', fontsize=20)\n",
    "ax.set_xlabel('Genres', fontsize=15)\n",
    "ax.set_ylabel('Foreign Return in Percentage', fontsize=15);"
   ]
  },
  {
   "cell_type": "markdown",
   "metadata": {},
   "source": [
    "### Total Return on Investment\n",
    "In the Total Return on Investment chart, the top 5 genres with highest average return are **Mystery, Horror, Thriller, Romance, and Sci-fi**. Just like the other two RoI charts, both mystery and horror are the top genres. Mystery overall return was nearly a **1400% return**, and horror at **1300% return**. Among the three RoI charts, the results were consistent, especially for the top 3 genres being **Mystery, Horror, and Thriller**."
   ]
  },
  {
   "cell_type": "code",
   "execution_count": 30,
   "metadata": {},
   "outputs": [
    {
     "data": {
      "image/png": "[encoded data removed]",
      "text/plain": [
       "<Figure size 864x576 with 1 Axes>"
      ]
     },
     "metadata": {
      "needs_background": "light"
     },
     "output_type": "display_data"
    }
   ],
   "source": [
    "# Bar chart for total return on investment\n",
    "roi_means_total = combined_film_df_clean.groupby(['genres'])['roi_total(%)'].mean().sort_values(ascending=False)\n",
    "\n",
    "fig, ax = plt.subplots(figsize=(12, 8))\n",
    "\n",
    "ax.bar(roi_means_total.index[:5], roi_means_total[:5], color=['#180229', '#4b0787', '#013f94', '#f578f3', '#05abf7'])\n",
    "ax.set_title('Total Return on Investment', fontsize=20)\n",
    "ax.set_xlabel('Genres', fontsize=15)\n",
    "ax.set_ylabel('Total Return in Percentage', fontsize=15);"
   ]
  },
  {
   "cell_type": "markdown",
   "metadata": {},
   "source": [
    "## Conclusions\n",
    "Through the analysis of this data, we are able to answer the following questions:\n",
    "    \n",
    "**What are the top genres recommended for creating a first film?**\n",
    "\n",
    "The top 5 genres I would recommend the company look into for a possible first film would be **Mystery, Horror, Thriller, Romance, and Sci-fi, genres.** Overall these 5 genres appear to give the best return in a domestic as well as a foreign market if the company wants to release their film overseas.\n",
    "\n",
    "**Which genre(s) has the highest return on investment?**\n",
    "\n",
    "Overall, the one genre that had the highest return on investment is the **Mystery** genre. In the domestic market this genre averaged at nearly a **500% return**. In the foreign market, this genre RoI nearly doubled from a 500% return to an **800% return**.\n",
    "\n",
    "**Are the top genres consistent throughout both domestic and foreign markets?**\n",
    "\n",
    "For the most part, the top genres in the domestic and foreign markets are consistent with **Mystery, Horror, and Thriller** being the top three. Spots four and five would change between **Documentary, Romance, Sci-fi, and Animation** in the domestic and foreign markets. Ultimately **Romance, and Sci-fi** made it to the top 5 as overall these two genres had the highest return."
   ]
  },
  {
   "cell_type": "markdown",
   "metadata": {},
   "source": [
    "## Limitations\n",
    "Some limitations with these datasets is that while in the end they do have over 1000 films in common, there was a lot of data that had to be dropped due to simply not having the genre(s) of the film, and by dropping these values there is a possibility of missing out on genres that did extremely well or very poorly that could have changed the outcome. \n",
    "\n",
    "Another limitation I found with the data was that some films have the same title, but are made by different studios in foreign countries, so any film(s) that happen to have the same title could have had their values, gross values specifically, changed leading to possible inaccuracies for genres value averages."
   ]
  },
  {
   "cell_type": "markdown",
   "metadata": {},
   "source": [
    "## Recommendations\n",
    "The top 5 genres with the highest return on investment are **Mystery, Horror, Thriller, Romance, and Sci-fi**. Even though the list of genres has been narrowed down to 5 it doesn’t mean instant success in one of those genres. I recommend further research on the recommended genres, specifically on the films that fall under these genres that are considered successful. \n",
    "\n",
    "Also, the data sets used for this project included films from around the world. Depending on what the primary market the company's focus is on, I would recommend gathering data for that specific market and running the tests again as there is always the **possibility that a film will do well in one market but fail in a different market.**"
   ]
  },
  {
   "cell_type": "markdown",
   "metadata": {},
   "source": [
    "## Next Steps\n",
    "**Further analyzing the data could help in giving a better understanding of the success rate of a genre.** In this project the main focus was narrowing down the genres and this was done by finding the return on investment. Now that we have the top genres, the next steps would be to **narrow the dataset to these specific genres, and research the films listed in these genres.** Finding out what made these films successful or even failures.\n",
    "\n",
    "With the data narrowed down to the top 5 genres, **we can get a better understanding of how a specific genre has done over a set period.** For example, throughout the data, the **mystery genre didn’t have the highest gross both domestic and foreign, but it did have the highest RoI overall.** Is this result because the genre is becoming popular over the years, or are there a few outlier films that just did very well overall and boosted this genre to the top?\n",
    "\n",
    "The current data has films that were released between 2010 and 2019, by **running these same tests on data containing films from 2020 to 2025**, it could help in finding the current movie genre trend, and depending on the results of both tests it could help solidify the recommended genre(s)."
   ]
  }
 ],
 "metadata": {
  "kernelspec": {
   "display_name": "Python [conda env:learn-env2] *",
   "language": "python",
   "name": "conda-env-learn-env2-py"
  },
  "language_info": {
   "codemirror_mode": {
    "name": "ipython",
    "version": 3
   },
   "file_extension": ".py",
   "mimetype": "text/x-python",
   "name": "python",
   "nbconvert_exporter": "python",
   "pygments_lexer": "ipython3",
   "version": "3.8.5"
  }
 },
 "nbformat": 4,
 "nbformat_minor": 4
}
