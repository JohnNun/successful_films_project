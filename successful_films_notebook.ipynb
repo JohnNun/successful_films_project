{
 "cells": [
  {
   "cell_type": "markdown",
   "metadata": {},
   "source": [
    "# Business Understanding"
   ]
  },
  {
   "cell_type": "markdown",
   "metadata": {},
   "source": [
    "Your company now sees all the big companies creating original video content and they want to get in on the fun. They have decided to create a new movie studio, but they don’t know anything about creating movies. You are charged with exploring what types of films are currently doing the best at the box office. You must then translate those findings into actionable insights that the head of your company's new movie studio can use to help decide what type of films to create."
   ]
  },
  {
   "cell_type": "markdown",
   "metadata": {},
   "source": []
  },
  {
   "cell_type": "markdown",
   "metadata": {},
   "source": [
    "# Data Understanding"
   ]
  },
  {
   "cell_type": "code",
   "execution_count": null,
   "metadata": {},
   "outputs": [],
   "source": []
  },
  {
   "cell_type": "markdown",
   "metadata": {},
   "source": [
    "## Data Preparation"
   ]
  },
  {
   "cell_type": "markdown",
   "metadata": {},
   "source": []
  },
  {
   "cell_type": "code",
   "execution_count": 1,
   "metadata": {},
   "outputs": [],
   "source": [
    "# importing necessary tools\n",
    "import pandas as pd\n",
    "import numpy as np\n",
    "import sqlite3\n",
    "import matplotlib.pyplot as plt"
   ]
  },
  {
   "cell_type": "code",
   "execution_count": 2,
   "metadata": {},
   "outputs": [
    {
     "data": {
      "text/html": [
       "<div>\n",
       "<style scoped>\n",
       "    .dataframe tbody tr th:only-of-type {\n",
       "        vertical-align: middle;\n",
       "    }\n",
       "\n",
       "    .dataframe tbody tr th {\n",
       "        vertical-align: top;\n",
       "    }\n",
       "\n",
       "    .dataframe thead th {\n",
       "        text-align: right;\n",
       "    }\n",
       "</style>\n",
       "<table border=\"1\" class=\"dataframe\">\n",
       "  <thead>\n",
       "    <tr style=\"text-align: right;\">\n",
       "      <th></th>\n",
       "      <th>type</th>\n",
       "      <th>name</th>\n",
       "      <th>tbl_name</th>\n",
       "      <th>rootpage</th>\n",
       "      <th>sql</th>\n",
       "    </tr>\n",
       "  </thead>\n",
       "  <tbody>\n",
       "    <tr>\n",
       "      <th>0</th>\n",
       "      <td>table</td>\n",
       "      <td>movie_basics</td>\n",
       "      <td>movie_basics</td>\n",
       "      <td>2</td>\n",
       "      <td>CREATE TABLE \"movie_basics\" (\\n\"movie_id\" TEXT...</td>\n",
       "    </tr>\n",
       "    <tr>\n",
       "      <th>1</th>\n",
       "      <td>table</td>\n",
       "      <td>directors</td>\n",
       "      <td>directors</td>\n",
       "      <td>3</td>\n",
       "      <td>CREATE TABLE \"directors\" (\\n\"movie_id\" TEXT,\\n...</td>\n",
       "    </tr>\n",
       "    <tr>\n",
       "      <th>2</th>\n",
       "      <td>table</td>\n",
       "      <td>known_for</td>\n",
       "      <td>known_for</td>\n",
       "      <td>4</td>\n",
       "      <td>CREATE TABLE \"known_for\" (\\n\"person_id\" TEXT,\\...</td>\n",
       "    </tr>\n",
       "    <tr>\n",
       "      <th>3</th>\n",
       "      <td>table</td>\n",
       "      <td>movie_akas</td>\n",
       "      <td>movie_akas</td>\n",
       "      <td>5</td>\n",
       "      <td>CREATE TABLE \"movie_akas\" (\\n\"movie_id\" TEXT,\\...</td>\n",
       "    </tr>\n",
       "    <tr>\n",
       "      <th>4</th>\n",
       "      <td>table</td>\n",
       "      <td>movie_ratings</td>\n",
       "      <td>movie_ratings</td>\n",
       "      <td>6</td>\n",
       "      <td>CREATE TABLE \"movie_ratings\" (\\n\"movie_id\" TEX...</td>\n",
       "    </tr>\n",
       "    <tr>\n",
       "      <th>5</th>\n",
       "      <td>table</td>\n",
       "      <td>persons</td>\n",
       "      <td>persons</td>\n",
       "      <td>7</td>\n",
       "      <td>CREATE TABLE \"persons\" (\\n\"person_id\" TEXT,\\n ...</td>\n",
       "    </tr>\n",
       "    <tr>\n",
       "      <th>6</th>\n",
       "      <td>table</td>\n",
       "      <td>principals</td>\n",
       "      <td>principals</td>\n",
       "      <td>8</td>\n",
       "      <td>CREATE TABLE \"principals\" (\\n\"movie_id\" TEXT,\\...</td>\n",
       "    </tr>\n",
       "    <tr>\n",
       "      <th>7</th>\n",
       "      <td>table</td>\n",
       "      <td>writers</td>\n",
       "      <td>writers</td>\n",
       "      <td>9</td>\n",
       "      <td>CREATE TABLE \"writers\" (\\n\"movie_id\" TEXT,\\n  ...</td>\n",
       "    </tr>\n",
       "  </tbody>\n",
       "</table>\n",
       "</div>"
      ],
      "text/plain": [
       "    type           name       tbl_name  rootpage  \\\n",
       "0  table   movie_basics   movie_basics         2   \n",
       "1  table      directors      directors         3   \n",
       "2  table      known_for      known_for         4   \n",
       "3  table     movie_akas     movie_akas         5   \n",
       "4  table  movie_ratings  movie_ratings         6   \n",
       "5  table        persons        persons         7   \n",
       "6  table     principals     principals         8   \n",
       "7  table        writers        writers         9   \n",
       "\n",
       "                                                 sql  \n",
       "0  CREATE TABLE \"movie_basics\" (\\n\"movie_id\" TEXT...  \n",
       "1  CREATE TABLE \"directors\" (\\n\"movie_id\" TEXT,\\n...  \n",
       "2  CREATE TABLE \"known_for\" (\\n\"person_id\" TEXT,\\...  \n",
       "3  CREATE TABLE \"movie_akas\" (\\n\"movie_id\" TEXT,\\...  \n",
       "4  CREATE TABLE \"movie_ratings\" (\\n\"movie_id\" TEX...  \n",
       "5  CREATE TABLE \"persons\" (\\n\"person_id\" TEXT,\\n ...  \n",
       "6  CREATE TABLE \"principals\" (\\n\"movie_id\" TEXT,\\...  \n",
       "7  CREATE TABLE \"writers\" (\\n\"movie_id\" TEXT,\\n  ...  "
      ]
     },
     "execution_count": 2,
     "metadata": {},
     "output_type": "execute_result"
    }
   ],
   "source": [
    "# Connecting to the imdb film database\n",
    "path = 'data/im.db'\n",
    "conn = sqlite3.connect(path)\n",
    "\n",
    "im_db = pd.read_sql(\"\"\"\n",
    "                    SELECT *\n",
    "                      FROM sqlite_master\n",
    "                    \"\"\"\n",
    "                    , conn\n",
    "                   )\n",
    "\n",
    "im_db[im_db['type'] == 'table']"
   ]
  },
  {
   "cell_type": "code",
   "execution_count": 3,
   "metadata": {},
   "outputs": [],
   "source": [
    "# Importing CSV files used for The Numbers and Box Office Mojo\n",
    "bom_df = pd.read_csv('data/bom.movie_gross.csv.gz')\n",
    "the_num_df = pd.read_csv('data/tn.movie_budgets.csv.gz')"
   ]
  },
  {
   "cell_type": "code",
   "execution_count": 4,
   "metadata": {},
   "outputs": [],
   "source": [
    "# Writing a quarry to contain the data needed for the project and assigning it to a variable\n",
    "q = \"\"\"\n",
    "    SELECT primary_title AS 'title', \n",
    "           start_year AS 'release_yr', \n",
    "           genres, \n",
    "           averagerating AS 'avg_rating'\n",
    "      FROM movie_basics\n",
    "      JOIN movie_ratings\n",
    "           USING(movie_id)\n",
    "     ORDER BY primary_title;\n",
    "    \"\"\"\n",
    "imdb_df = pd.read_sql(q, conn)"
   ]
  },
  {
   "cell_type": "code",
   "execution_count": 5,
   "metadata": {},
   "outputs": [],
   "source": [
    "# Changing column names to be uniform with other datasets\n",
    "the_num_df.columns = the_num_df.columns.str.replace('movie', 'title')\n",
    "the_num_df.columns = the_num_df.columns.str.replace('worldwide_gross', 'foreign_gross')\n",
    "the_num_df.columns = the_num_df.columns.str.replace('release_date', 'release_yr')"
   ]
  },
  {
   "cell_type": "code",
   "execution_count": 6,
   "metadata": {},
   "outputs": [],
   "source": [
    "# Removing month and day from date to keep only the year to be uniform to other datasets \n",
    "the_num_df['release_yr'] = the_num_df['release_yr'].str.split(',').str[1]"
   ]
  },
  {
   "cell_type": "code",
   "execution_count": 7,
   "metadata": {},
   "outputs": [],
   "source": [
    "# \n",
    "bom_df.columns = bom_df.columns.str.replace('year', 'release_yr')"
   ]
  },
  {
   "cell_type": "code",
   "execution_count": 8,
   "metadata": {},
   "outputs": [],
   "source": [
    "# \n",
    "bom_df = bom_df.fillna(0)"
   ]
  },
  {
   "cell_type": "code",
   "execution_count": 9,
   "metadata": {},
   "outputs": [],
   "source": [
    "# Function to remove symbols from values and convert specified Object dtypes with numeric values into integer\n",
    "def symbol_removal_dtype_con(df, columns):\n",
    "    \n",
    "    \"\"\"\n",
    "    Removes symbols from specified columns with numeric values in a dataset and converts dtype to integer.\n",
    "    \n",
    "    Note: Any NaN or Null values in the dataset must be dropped or filled with place holder values before running through \n",
    "          function.\n",
    "    \n",
    "    Function Parameters:\n",
    "    df: Pandas dataframe\n",
    "    cols: Column name or list of columns with numeric values to remove symbols and convert to integer. \n",
    "    \"\"\"\n",
    "    \n",
    "    df = df.copy()\n",
    "    \n",
    "    for col in columns:\n",
    "        if df[col].dtype == 'O':\n",
    "           df[col] = df[col].astype(str).str.replace(r'[^\\w\\s]', '', regex=True) #Line of code that removes symbols\n",
    "           df[col] = df[col].astype('int64')                                     #Line of code that converts dtypes to integers\n",
    "        else:\n",
    "            df[col] = df[col].astype('int64')\n",
    "    return df"
   ]
  },
  {
   "cell_type": "code",
   "execution_count": 10,
   "metadata": {
    "scrolled": false
   },
   "outputs": [],
   "source": [
    "the_num_df_clean = symbol_removal_dtype_con(the_num_df, ['production_budget', 'domestic_gross', 'foreign_gross', 'release_yr'])"
   ]
  },
  {
   "cell_type": "code",
   "execution_count": 11,
   "metadata": {},
   "outputs": [],
   "source": [
    "bom_df_clean = symbol_removal_dtype_con(bom_df, ['domestic_gross', 'foreign_gross'])"
   ]
  },
  {
   "cell_type": "markdown",
   "metadata": {},
   "source": [
    "In the Box Office Mojo, and The Numbers dataframes there are quite a few movie title similarities but the domestic and foriegn gross are differnt. Box Office Mojo rounded their numbers to the nearest millionth or 100 thousandth, while The Numbers has fairly accurate numbers. While either gross value can work, I decided to get the mean of both numbers and use that outcome as my gross data as this would give me more accurate data to work with from two different sources. "
   ]
  },
  {
   "cell_type": "code",
   "execution_count": 12,
   "metadata": {},
   "outputs": [],
   "source": [
    "# Grouping data by title \n",
    "column_list = ['production_budget', 'domestic_gross', 'foreign_gross', 'release_yr']\n",
    "\n",
    "the_num_bom_df = pd.concat([the_num_df_clean, bom_df_clean]).groupby('title', as_index=False)[column_list].mean()"
   ]
  },
  {
   "cell_type": "code",
   "execution_count": 13,
   "metadata": {},
   "outputs": [],
   "source": [
    "def clean_and_sort(df, sort_by):\n",
    "    \n",
    "    \"\"\"\n",
    "    This functions reads the dataframe and if it locates a NaN or null value it will drop the rows those values are in and \n",
    "    proceed to sort the data by the defined column name as well as reseting the index.\n",
    "    \n",
    "    Function Arguments:\n",
    "    df: The dataframe wish to be cleaned and sorted\n",
    "    sort_by: The name of the column (in string format) to sort the dataframe by\n",
    "    \"\"\"\n",
    "    \n",
    "    df = df.copy()\n",
    "    \n",
    "    if pd.isna(df).any:\n",
    "        df = df.dropna().sort_values(sort_by).reset_index(drop=True)\n",
    "    else:\n",
    "        df = df.sort_values(sort_by).reset_index(drop=True)\n",
    "    return df"
   ]
  },
  {
   "cell_type": "code",
   "execution_count": 14,
   "metadata": {},
   "outputs": [],
   "source": [
    "the_num_bom_df = the_num_bom_df[(the_num_bom_df['domestic_gross'] > 0) & (the_num_bom_df['foreign_gross'] > 0)]"
   ]
  },
  {
   "cell_type": "code",
   "execution_count": 15,
   "metadata": {},
   "outputs": [],
   "source": [
    "the_num_bom_df_clean = clean_and_sort(the_num_bom_df, 'title')"
   ]
  },
  {
   "cell_type": "code",
   "execution_count": 16,
   "metadata": {
    "scrolled": false
   },
   "outputs": [
    {
     "data": {
      "text/html": [
       "<div>\n",
       "<style scoped>\n",
       "    .dataframe tbody tr th:only-of-type {\n",
       "        vertical-align: middle;\n",
       "    }\n",
       "\n",
       "    .dataframe tbody tr th {\n",
       "        vertical-align: top;\n",
       "    }\n",
       "\n",
       "    .dataframe thead th {\n",
       "        text-align: right;\n",
       "    }\n",
       "</style>\n",
       "<table border=\"1\" class=\"dataframe\">\n",
       "  <thead>\n",
       "    <tr style=\"text-align: right;\">\n",
       "      <th></th>\n",
       "      <th>title</th>\n",
       "      <th>production_budget</th>\n",
       "      <th>domestic_gross</th>\n",
       "      <th>foreign_gross</th>\n",
       "      <th>release_yr</th>\n",
       "    </tr>\n",
       "  </thead>\n",
       "  <tbody>\n",
       "    <tr>\n",
       "      <th>0</th>\n",
       "      <td>(500) Days of Summer</td>\n",
       "      <td>7500000</td>\n",
       "      <td>32425665</td>\n",
       "      <td>34439060</td>\n",
       "      <td>2009</td>\n",
       "    </tr>\n",
       "    <tr>\n",
       "      <th>1</th>\n",
       "      <td>10 Cloverfield Lane</td>\n",
       "      <td>5000000</td>\n",
       "      <td>72091499</td>\n",
       "      <td>73193211</td>\n",
       "      <td>2016</td>\n",
       "    </tr>\n",
       "    <tr>\n",
       "      <th>2</th>\n",
       "      <td>10 Days in a Madhouse</td>\n",
       "      <td>12000000</td>\n",
       "      <td>14616</td>\n",
       "      <td>14616</td>\n",
       "      <td>2015</td>\n",
       "    </tr>\n",
       "    <tr>\n",
       "      <th>3</th>\n",
       "      <td>10 Things I Hate About You</td>\n",
       "      <td>13000000</td>\n",
       "      <td>38177966</td>\n",
       "      <td>60413950</td>\n",
       "      <td>1999</td>\n",
       "    </tr>\n",
       "    <tr>\n",
       "      <th>4</th>\n",
       "      <td>10,000 B.C.</td>\n",
       "      <td>105000000</td>\n",
       "      <td>94784201</td>\n",
       "      <td>269065678</td>\n",
       "      <td>2008</td>\n",
       "    </tr>\n",
       "    <tr>\n",
       "      <th>...</th>\n",
       "      <td>...</td>\n",
       "      <td>...</td>\n",
       "      <td>...</td>\n",
       "      <td>...</td>\n",
       "      <td>...</td>\n",
       "    </tr>\n",
       "    <tr>\n",
       "      <th>5159</th>\n",
       "      <td>eXistenZ</td>\n",
       "      <td>20700000</td>\n",
       "      <td>2840417</td>\n",
       "      <td>2840417</td>\n",
       "      <td>1999</td>\n",
       "    </tr>\n",
       "    <tr>\n",
       "      <th>5160</th>\n",
       "      <td>mother!</td>\n",
       "      <td>30000000</td>\n",
       "      <td>17800002</td>\n",
       "      <td>34615538</td>\n",
       "      <td>2017</td>\n",
       "    </tr>\n",
       "    <tr>\n",
       "      <th>5161</th>\n",
       "      <td>xXx</td>\n",
       "      <td>70000000</td>\n",
       "      <td>141930000</td>\n",
       "      <td>267200000</td>\n",
       "      <td>2002</td>\n",
       "    </tr>\n",
       "    <tr>\n",
       "      <th>5162</th>\n",
       "      <td>xXx: Return of Xander Cage</td>\n",
       "      <td>85000000</td>\n",
       "      <td>44898413</td>\n",
       "      <td>345033359</td>\n",
       "      <td>2017</td>\n",
       "    </tr>\n",
       "    <tr>\n",
       "      <th>5163</th>\n",
       "      <td>é·æ±ä¸è (CJ7)</td>\n",
       "      <td>20000000</td>\n",
       "      <td>206678</td>\n",
       "      <td>47300771</td>\n",
       "      <td>2008</td>\n",
       "    </tr>\n",
       "  </tbody>\n",
       "</table>\n",
       "<p>5164 rows × 5 columns</p>\n",
       "</div>"
      ],
      "text/plain": [
       "                           title  production_budget  domestic_gross  \\\n",
       "0           (500) Days of Summer            7500000        32425665   \n",
       "1            10 Cloverfield Lane            5000000        72091499   \n",
       "2          10 Days in a Madhouse           12000000           14616   \n",
       "3     10 Things I Hate About You           13000000        38177966   \n",
       "4                    10,000 B.C.          105000000        94784201   \n",
       "...                          ...                ...             ...   \n",
       "5159                    eXistenZ           20700000         2840417   \n",
       "5160                     mother!           30000000        17800002   \n",
       "5161                         xXx           70000000       141930000   \n",
       "5162  xXx: Return of Xander Cage           85000000        44898413   \n",
       "5163          é·æ±ä¸è (CJ7)           20000000          206678   \n",
       "\n",
       "      foreign_gross  release_yr  \n",
       "0          34439060        2009  \n",
       "1          73193211        2016  \n",
       "2             14616        2015  \n",
       "3          60413950        1999  \n",
       "4         269065678        2008  \n",
       "...             ...         ...  \n",
       "5159        2840417        1999  \n",
       "5160       34615538        2017  \n",
       "5161      267200000        2002  \n",
       "5162      345033359        2017  \n",
       "5163       47300771        2008  \n",
       "\n",
       "[5164 rows x 5 columns]"
      ]
     },
     "execution_count": 16,
     "metadata": {},
     "output_type": "execute_result"
    }
   ],
   "source": [
    "the_num_bom_df_clean = symbol_removal_dtype_con(the_num_bom_df_clean, column_list)\n",
    "the_num_bom_df_clean"
   ]
  },
  {
   "cell_type": "code",
   "execution_count": 17,
   "metadata": {
    "scrolled": false
   },
   "outputs": [
    {
     "data": {
      "text/html": [
       "<div>\n",
       "<style scoped>\n",
       "    .dataframe tbody tr th:only-of-type {\n",
       "        vertical-align: middle;\n",
       "    }\n",
       "\n",
       "    .dataframe tbody tr th {\n",
       "        vertical-align: top;\n",
       "    }\n",
       "\n",
       "    .dataframe thead th {\n",
       "        text-align: right;\n",
       "    }\n",
       "</style>\n",
       "<table border=\"1\" class=\"dataframe\">\n",
       "  <thead>\n",
       "    <tr style=\"text-align: right;\">\n",
       "      <th></th>\n",
       "      <th>title</th>\n",
       "      <th>production_budget</th>\n",
       "      <th>domestic_gross</th>\n",
       "      <th>foreign_gross</th>\n",
       "      <th>release_yr</th>\n",
       "      <th>genres</th>\n",
       "      <th>avg_rating</th>\n",
       "    </tr>\n",
       "  </thead>\n",
       "  <tbody>\n",
       "    <tr>\n",
       "      <th>0</th>\n",
       "      <td>(500) Days of Summer</td>\n",
       "      <td>7500000</td>\n",
       "      <td>32425665</td>\n",
       "      <td>34439060</td>\n",
       "      <td>2009</td>\n",
       "      <td>NaN</td>\n",
       "      <td>NaN</td>\n",
       "    </tr>\n",
       "    <tr>\n",
       "      <th>1</th>\n",
       "      <td>10 Cloverfield Lane</td>\n",
       "      <td>5000000</td>\n",
       "      <td>72091499</td>\n",
       "      <td>73193211</td>\n",
       "      <td>2016</td>\n",
       "      <td>Drama,Horror,Mystery</td>\n",
       "      <td>7.2</td>\n",
       "    </tr>\n",
       "    <tr>\n",
       "      <th>2</th>\n",
       "      <td>10 Days in a Madhouse</td>\n",
       "      <td>12000000</td>\n",
       "      <td>14616</td>\n",
       "      <td>14616</td>\n",
       "      <td>2015</td>\n",
       "      <td>Drama</td>\n",
       "      <td>6.7</td>\n",
       "    </tr>\n",
       "    <tr>\n",
       "      <th>3</th>\n",
       "      <td>10 Things I Hate About You</td>\n",
       "      <td>13000000</td>\n",
       "      <td>38177966</td>\n",
       "      <td>60413950</td>\n",
       "      <td>1999</td>\n",
       "      <td>NaN</td>\n",
       "      <td>NaN</td>\n",
       "    </tr>\n",
       "    <tr>\n",
       "      <th>4</th>\n",
       "      <td>10,000 B.C.</td>\n",
       "      <td>105000000</td>\n",
       "      <td>94784201</td>\n",
       "      <td>269065678</td>\n",
       "      <td>2008</td>\n",
       "      <td>NaN</td>\n",
       "      <td>NaN</td>\n",
       "    </tr>\n",
       "    <tr>\n",
       "      <th>...</th>\n",
       "      <td>...</td>\n",
       "      <td>...</td>\n",
       "      <td>...</td>\n",
       "      <td>...</td>\n",
       "      <td>...</td>\n",
       "      <td>...</td>\n",
       "      <td>...</td>\n",
       "    </tr>\n",
       "    <tr>\n",
       "      <th>5187</th>\n",
       "      <td>eXistenZ</td>\n",
       "      <td>20700000</td>\n",
       "      <td>2840417</td>\n",
       "      <td>2840417</td>\n",
       "      <td>1999</td>\n",
       "      <td>NaN</td>\n",
       "      <td>NaN</td>\n",
       "    </tr>\n",
       "    <tr>\n",
       "      <th>5188</th>\n",
       "      <td>mother!</td>\n",
       "      <td>30000000</td>\n",
       "      <td>17800002</td>\n",
       "      <td>34615538</td>\n",
       "      <td>2017</td>\n",
       "      <td>NaN</td>\n",
       "      <td>NaN</td>\n",
       "    </tr>\n",
       "    <tr>\n",
       "      <th>5189</th>\n",
       "      <td>xXx</td>\n",
       "      <td>70000000</td>\n",
       "      <td>141930000</td>\n",
       "      <td>267200000</td>\n",
       "      <td>2002</td>\n",
       "      <td>NaN</td>\n",
       "      <td>NaN</td>\n",
       "    </tr>\n",
       "    <tr>\n",
       "      <th>5190</th>\n",
       "      <td>xXx: Return of Xander Cage</td>\n",
       "      <td>85000000</td>\n",
       "      <td>44898413</td>\n",
       "      <td>345033359</td>\n",
       "      <td>2017</td>\n",
       "      <td>Action,Adventure,Thriller</td>\n",
       "      <td>5.2</td>\n",
       "    </tr>\n",
       "    <tr>\n",
       "      <th>5191</th>\n",
       "      <td>é·æ±ä¸è (CJ7)</td>\n",
       "      <td>20000000</td>\n",
       "      <td>206678</td>\n",
       "      <td>47300771</td>\n",
       "      <td>2008</td>\n",
       "      <td>NaN</td>\n",
       "      <td>NaN</td>\n",
       "    </tr>\n",
       "  </tbody>\n",
       "</table>\n",
       "<p>5192 rows × 7 columns</p>\n",
       "</div>"
      ],
      "text/plain": [
       "                           title  production_budget  domestic_gross  \\\n",
       "0           (500) Days of Summer            7500000        32425665   \n",
       "1            10 Cloverfield Lane            5000000        72091499   \n",
       "2          10 Days in a Madhouse           12000000           14616   \n",
       "3     10 Things I Hate About You           13000000        38177966   \n",
       "4                    10,000 B.C.          105000000        94784201   \n",
       "...                          ...                ...             ...   \n",
       "5187                    eXistenZ           20700000         2840417   \n",
       "5188                     mother!           30000000        17800002   \n",
       "5189                         xXx           70000000       141930000   \n",
       "5190  xXx: Return of Xander Cage           85000000        44898413   \n",
       "5191          é·æ±ä¸è (CJ7)           20000000          206678   \n",
       "\n",
       "      foreign_gross  release_yr                     genres  avg_rating  \n",
       "0          34439060        2009                        NaN         NaN  \n",
       "1          73193211        2016       Drama,Horror,Mystery         7.2  \n",
       "2             14616        2015                      Drama         6.7  \n",
       "3          60413950        1999                        NaN         NaN  \n",
       "4         269065678        2008                        NaN         NaN  \n",
       "...             ...         ...                        ...         ...  \n",
       "5187        2840417        1999                        NaN         NaN  \n",
       "5188       34615538        2017                        NaN         NaN  \n",
       "5189      267200000        2002                        NaN         NaN  \n",
       "5190      345033359        2017  Action,Adventure,Thriller         5.2  \n",
       "5191       47300771        2008                        NaN         NaN  \n",
       "\n",
       "[5192 rows x 7 columns]"
      ]
     },
     "execution_count": 17,
     "metadata": {},
     "output_type": "execute_result"
    }
   ],
   "source": [
    "# Merging the IMDB dataframe with The Numbers and Box Office Mojo combined dataframe\n",
    "combined_film_df = the_num_bom_df_clean.merge(imdb_df, on=['title', 'release_yr'], how='left')\n",
    "combined_film_df"
   ]
  },
  {
   "cell_type": "code",
   "execution_count": 18,
   "metadata": {},
   "outputs": [],
   "source": [
    "combined_film_df_clean = clean_and_sort(combined_film_df, 'title')"
   ]
  },
  {
   "cell_type": "markdown",
   "metadata": {},
   "source": []
  },
  {
   "cell_type": "code",
   "execution_count": 19,
   "metadata": {},
   "outputs": [],
   "source": [
    "combined_film_df_clean['genres'] = combined_film_df_clean['genres'].str.split(',')"
   ]
  },
  {
   "cell_type": "code",
   "execution_count": 20,
   "metadata": {
    "scrolled": false
   },
   "outputs": [
    {
     "data": {
      "text/html": [
       "<div>\n",
       "<style scoped>\n",
       "    .dataframe tbody tr th:only-of-type {\n",
       "        vertical-align: middle;\n",
       "    }\n",
       "\n",
       "    .dataframe tbody tr th {\n",
       "        vertical-align: top;\n",
       "    }\n",
       "\n",
       "    .dataframe thead th {\n",
       "        text-align: right;\n",
       "    }\n",
       "</style>\n",
       "<table border=\"1\" class=\"dataframe\">\n",
       "  <thead>\n",
       "    <tr style=\"text-align: right;\">\n",
       "      <th></th>\n",
       "      <th>title</th>\n",
       "      <th>production_budget</th>\n",
       "      <th>domestic_gross</th>\n",
       "      <th>foreign_gross</th>\n",
       "      <th>release_yr</th>\n",
       "      <th>genres</th>\n",
       "      <th>avg_rating</th>\n",
       "    </tr>\n",
       "  </thead>\n",
       "  <tbody>\n",
       "    <tr>\n",
       "      <th>0</th>\n",
       "      <td>10 Cloverfield Lane</td>\n",
       "      <td>5000000</td>\n",
       "      <td>72091499</td>\n",
       "      <td>73193211</td>\n",
       "      <td>2016</td>\n",
       "      <td>Drama</td>\n",
       "      <td>7.2</td>\n",
       "    </tr>\n",
       "    <tr>\n",
       "      <th>0</th>\n",
       "      <td>10 Cloverfield Lane</td>\n",
       "      <td>5000000</td>\n",
       "      <td>72091499</td>\n",
       "      <td>73193211</td>\n",
       "      <td>2016</td>\n",
       "      <td>Horror</td>\n",
       "      <td>7.2</td>\n",
       "    </tr>\n",
       "    <tr>\n",
       "      <th>0</th>\n",
       "      <td>10 Cloverfield Lane</td>\n",
       "      <td>5000000</td>\n",
       "      <td>72091499</td>\n",
       "      <td>73193211</td>\n",
       "      <td>2016</td>\n",
       "      <td>Mystery</td>\n",
       "      <td>7.2</td>\n",
       "    </tr>\n",
       "    <tr>\n",
       "      <th>1</th>\n",
       "      <td>10 Days in a Madhouse</td>\n",
       "      <td>12000000</td>\n",
       "      <td>14616</td>\n",
       "      <td>14616</td>\n",
       "      <td>2015</td>\n",
       "      <td>Drama</td>\n",
       "      <td>6.7</td>\n",
       "    </tr>\n",
       "    <tr>\n",
       "      <th>2</th>\n",
       "      <td>12 Strong</td>\n",
       "      <td>35000000</td>\n",
       "      <td>45809856</td>\n",
       "      <td>46359189</td>\n",
       "      <td>2018</td>\n",
       "      <td>Action</td>\n",
       "      <td>6.6</td>\n",
       "    </tr>\n",
       "    <tr>\n",
       "      <th>...</th>\n",
       "      <td>...</td>\n",
       "      <td>...</td>\n",
       "      <td>...</td>\n",
       "      <td>...</td>\n",
       "      <td>...</td>\n",
       "      <td>...</td>\n",
       "      <td>...</td>\n",
       "    </tr>\n",
       "    <tr>\n",
       "      <th>1292</th>\n",
       "      <td>Zootopia</td>\n",
       "      <td>150000000</td>\n",
       "      <td>341284124</td>\n",
       "      <td>850964808</td>\n",
       "      <td>2016</td>\n",
       "      <td>Animation</td>\n",
       "      <td>8.0</td>\n",
       "    </tr>\n",
       "    <tr>\n",
       "      <th>1292</th>\n",
       "      <td>Zootopia</td>\n",
       "      <td>150000000</td>\n",
       "      <td>341284124</td>\n",
       "      <td>850964808</td>\n",
       "      <td>2016</td>\n",
       "      <td>Comedy</td>\n",
       "      <td>8.0</td>\n",
       "    </tr>\n",
       "    <tr>\n",
       "      <th>1293</th>\n",
       "      <td>xXx: Return of Xander Cage</td>\n",
       "      <td>85000000</td>\n",
       "      <td>44898413</td>\n",
       "      <td>345033359</td>\n",
       "      <td>2017</td>\n",
       "      <td>Action</td>\n",
       "      <td>5.2</td>\n",
       "    </tr>\n",
       "    <tr>\n",
       "      <th>1293</th>\n",
       "      <td>xXx: Return of Xander Cage</td>\n",
       "      <td>85000000</td>\n",
       "      <td>44898413</td>\n",
       "      <td>345033359</td>\n",
       "      <td>2017</td>\n",
       "      <td>Adventure</td>\n",
       "      <td>5.2</td>\n",
       "    </tr>\n",
       "    <tr>\n",
       "      <th>1293</th>\n",
       "      <td>xXx: Return of Xander Cage</td>\n",
       "      <td>85000000</td>\n",
       "      <td>44898413</td>\n",
       "      <td>345033359</td>\n",
       "      <td>2017</td>\n",
       "      <td>Thriller</td>\n",
       "      <td>5.2</td>\n",
       "    </tr>\n",
       "  </tbody>\n",
       "</table>\n",
       "<p>3327 rows × 7 columns</p>\n",
       "</div>"
      ],
      "text/plain": [
       "                           title  production_budget  domestic_gross  \\\n",
       "0            10 Cloverfield Lane            5000000        72091499   \n",
       "0            10 Cloverfield Lane            5000000        72091499   \n",
       "0            10 Cloverfield Lane            5000000        72091499   \n",
       "1          10 Days in a Madhouse           12000000           14616   \n",
       "2                      12 Strong           35000000        45809856   \n",
       "...                          ...                ...             ...   \n",
       "1292                    Zootopia          150000000       341284124   \n",
       "1292                    Zootopia          150000000       341284124   \n",
       "1293  xXx: Return of Xander Cage           85000000        44898413   \n",
       "1293  xXx: Return of Xander Cage           85000000        44898413   \n",
       "1293  xXx: Return of Xander Cage           85000000        44898413   \n",
       "\n",
       "      foreign_gross  release_yr     genres  avg_rating  \n",
       "0          73193211        2016      Drama         7.2  \n",
       "0          73193211        2016     Horror         7.2  \n",
       "0          73193211        2016    Mystery         7.2  \n",
       "1             14616        2015      Drama         6.7  \n",
       "2          46359189        2018     Action         6.6  \n",
       "...             ...         ...        ...         ...  \n",
       "1292      850964808        2016  Animation         8.0  \n",
       "1292      850964808        2016     Comedy         8.0  \n",
       "1293      345033359        2017     Action         5.2  \n",
       "1293      345033359        2017  Adventure         5.2  \n",
       "1293      345033359        2017   Thriller         5.2  \n",
       "\n",
       "[3327 rows x 7 columns]"
      ]
     },
     "execution_count": 20,
     "metadata": {},
     "output_type": "execute_result"
    }
   ],
   "source": [
    "combined_film_df_clean = combined_film_df_clean.explode('genres')\n",
    "combined_film_df_clean"
   ]
  },
  {
   "cell_type": "markdown",
   "metadata": {},
   "source": []
  },
  {
   "cell_type": "code",
   "execution_count": 21,
   "metadata": {},
   "outputs": [],
   "source": [
    "money_columns = ['production_budget', 'domestic_gross', 'foreign_gross']\n",
    "title_counts = combined_film_df_clean['title'].value_counts()\n",
    "\n",
    "combined_film_df_clean[money_columns] = combined_film_df_clean.apply(lambda row: row[money_columns] / title_counts[row['title']], axis=1)\n",
    "combined_film_df_clean = symbol_removal_dtype_con(combined_film_df_clean, money_columns)\n",
    "combined_film_df_clean = clean_and_sort(combined_film_df_clean, 'title')"
   ]
  },
  {
   "cell_type": "markdown",
   "metadata": {},
   "source": []
  },
  {
   "cell_type": "code",
   "execution_count": 22,
   "metadata": {
    "scrolled": false
   },
   "outputs": [
    {
     "data": {
      "text/html": [
       "<div>\n",
       "<style scoped>\n",
       "    .dataframe tbody tr th:only-of-type {\n",
       "        vertical-align: middle;\n",
       "    }\n",
       "\n",
       "    .dataframe tbody tr th {\n",
       "        vertical-align: top;\n",
       "    }\n",
       "\n",
       "    .dataframe thead th {\n",
       "        text-align: right;\n",
       "    }\n",
       "</style>\n",
       "<table border=\"1\" class=\"dataframe\">\n",
       "  <thead>\n",
       "    <tr style=\"text-align: right;\">\n",
       "      <th></th>\n",
       "      <th>title</th>\n",
       "      <th>production_budget</th>\n",
       "      <th>domestic_gross</th>\n",
       "      <th>foreign_gross</th>\n",
       "      <th>release_yr</th>\n",
       "      <th>genres</th>\n",
       "      <th>avg_rating</th>\n",
       "      <th>roi_domestic(%)</th>\n",
       "      <th>roi_foreign(%)</th>\n",
       "      <th>roi_total(%)</th>\n",
       "    </tr>\n",
       "  </thead>\n",
       "  <tbody>\n",
       "    <tr>\n",
       "      <th>0</th>\n",
       "      <td>10 Cloverfield Lane</td>\n",
       "      <td>1666666</td>\n",
       "      <td>24030499</td>\n",
       "      <td>24397737</td>\n",
       "      <td>2016</td>\n",
       "      <td>Drama</td>\n",
       "      <td>7.2</td>\n",
       "      <td>1341.830517</td>\n",
       "      <td>1363.864806</td>\n",
       "      <td>2805.695322</td>\n",
       "    </tr>\n",
       "    <tr>\n",
       "      <th>1</th>\n",
       "      <td>10 Cloverfield Lane</td>\n",
       "      <td>1666666</td>\n",
       "      <td>24030499</td>\n",
       "      <td>24397737</td>\n",
       "      <td>2016</td>\n",
       "      <td>Horror</td>\n",
       "      <td>7.2</td>\n",
       "      <td>1341.830517</td>\n",
       "      <td>1363.864806</td>\n",
       "      <td>2805.695322</td>\n",
       "    </tr>\n",
       "    <tr>\n",
       "      <th>2</th>\n",
       "      <td>10 Cloverfield Lane</td>\n",
       "      <td>1666666</td>\n",
       "      <td>24030499</td>\n",
       "      <td>24397737</td>\n",
       "      <td>2016</td>\n",
       "      <td>Mystery</td>\n",
       "      <td>7.2</td>\n",
       "      <td>1341.830517</td>\n",
       "      <td>1363.864806</td>\n",
       "      <td>2805.695322</td>\n",
       "    </tr>\n",
       "    <tr>\n",
       "      <th>3</th>\n",
       "      <td>10 Days in a Madhouse</td>\n",
       "      <td>12000000</td>\n",
       "      <td>14616</td>\n",
       "      <td>14616</td>\n",
       "      <td>2015</td>\n",
       "      <td>Drama</td>\n",
       "      <td>6.7</td>\n",
       "      <td>-99.878200</td>\n",
       "      <td>-99.878200</td>\n",
       "      <td>-99.756400</td>\n",
       "    </tr>\n",
       "    <tr>\n",
       "      <th>4</th>\n",
       "      <td>12 Strong</td>\n",
       "      <td>11666666</td>\n",
       "      <td>15269952</td>\n",
       "      <td>15453063</td>\n",
       "      <td>2018</td>\n",
       "      <td>Action</td>\n",
       "      <td>6.6</td>\n",
       "      <td>30.885310</td>\n",
       "      <td>32.454833</td>\n",
       "      <td>163.340144</td>\n",
       "    </tr>\n",
       "    <tr>\n",
       "      <th>...</th>\n",
       "      <td>...</td>\n",
       "      <td>...</td>\n",
       "      <td>...</td>\n",
       "      <td>...</td>\n",
       "      <td>...</td>\n",
       "      <td>...</td>\n",
       "      <td>...</td>\n",
       "      <td>...</td>\n",
       "      <td>...</td>\n",
       "      <td>...</td>\n",
       "    </tr>\n",
       "    <tr>\n",
       "      <th>3322</th>\n",
       "      <td>Zootopia</td>\n",
       "      <td>50000000</td>\n",
       "      <td>113761374</td>\n",
       "      <td>283654936</td>\n",
       "      <td>2016</td>\n",
       "      <td>Adventure</td>\n",
       "      <td>8.0</td>\n",
       "      <td>127.522748</td>\n",
       "      <td>467.309872</td>\n",
       "      <td>694.832620</td>\n",
       "    </tr>\n",
       "    <tr>\n",
       "      <th>3323</th>\n",
       "      <td>Zootopia</td>\n",
       "      <td>50000000</td>\n",
       "      <td>113761374</td>\n",
       "      <td>283654936</td>\n",
       "      <td>2016</td>\n",
       "      <td>Comedy</td>\n",
       "      <td>8.0</td>\n",
       "      <td>127.522748</td>\n",
       "      <td>467.309872</td>\n",
       "      <td>694.832620</td>\n",
       "    </tr>\n",
       "    <tr>\n",
       "      <th>3324</th>\n",
       "      <td>xXx: Return of Xander Cage</td>\n",
       "      <td>28333333</td>\n",
       "      <td>14966137</td>\n",
       "      <td>115011119</td>\n",
       "      <td>2017</td>\n",
       "      <td>Adventure</td>\n",
       "      <td>5.2</td>\n",
       "      <td>-47.178339</td>\n",
       "      <td>305.921601</td>\n",
       "      <td>358.743262</td>\n",
       "    </tr>\n",
       "    <tr>\n",
       "      <th>3325</th>\n",
       "      <td>xXx: Return of Xander Cage</td>\n",
       "      <td>28333333</td>\n",
       "      <td>14966137</td>\n",
       "      <td>115011119</td>\n",
       "      <td>2017</td>\n",
       "      <td>Action</td>\n",
       "      <td>5.2</td>\n",
       "      <td>-47.178339</td>\n",
       "      <td>305.921601</td>\n",
       "      <td>358.743262</td>\n",
       "    </tr>\n",
       "    <tr>\n",
       "      <th>3326</th>\n",
       "      <td>xXx: Return of Xander Cage</td>\n",
       "      <td>28333333</td>\n",
       "      <td>14966137</td>\n",
       "      <td>115011119</td>\n",
       "      <td>2017</td>\n",
       "      <td>Thriller</td>\n",
       "      <td>5.2</td>\n",
       "      <td>-47.178339</td>\n",
       "      <td>305.921601</td>\n",
       "      <td>358.743262</td>\n",
       "    </tr>\n",
       "  </tbody>\n",
       "</table>\n",
       "<p>3327 rows × 10 columns</p>\n",
       "</div>"
      ],
      "text/plain": [
       "                           title  production_budget  domestic_gross  \\\n",
       "0            10 Cloverfield Lane            1666666        24030499   \n",
       "1            10 Cloverfield Lane            1666666        24030499   \n",
       "2            10 Cloverfield Lane            1666666        24030499   \n",
       "3          10 Days in a Madhouse           12000000           14616   \n",
       "4                      12 Strong           11666666        15269952   \n",
       "...                          ...                ...             ...   \n",
       "3322                    Zootopia           50000000       113761374   \n",
       "3323                    Zootopia           50000000       113761374   \n",
       "3324  xXx: Return of Xander Cage           28333333        14966137   \n",
       "3325  xXx: Return of Xander Cage           28333333        14966137   \n",
       "3326  xXx: Return of Xander Cage           28333333        14966137   \n",
       "\n",
       "      foreign_gross  release_yr     genres  avg_rating  roi_domestic(%)  \\\n",
       "0          24397737        2016      Drama         7.2      1341.830517   \n",
       "1          24397737        2016     Horror         7.2      1341.830517   \n",
       "2          24397737        2016    Mystery         7.2      1341.830517   \n",
       "3             14616        2015      Drama         6.7       -99.878200   \n",
       "4          15453063        2018     Action         6.6        30.885310   \n",
       "...             ...         ...        ...         ...              ...   \n",
       "3322      283654936        2016  Adventure         8.0       127.522748   \n",
       "3323      283654936        2016     Comedy         8.0       127.522748   \n",
       "3324      115011119        2017  Adventure         5.2       -47.178339   \n",
       "3325      115011119        2017     Action         5.2       -47.178339   \n",
       "3326      115011119        2017   Thriller         5.2       -47.178339   \n",
       "\n",
       "      roi_foreign(%)  roi_total(%)  \n",
       "0        1363.864806   2805.695322  \n",
       "1        1363.864806   2805.695322  \n",
       "2        1363.864806   2805.695322  \n",
       "3         -99.878200    -99.756400  \n",
       "4          32.454833    163.340144  \n",
       "...              ...           ...  \n",
       "3322      467.309872    694.832620  \n",
       "3323      467.309872    694.832620  \n",
       "3324      305.921601    358.743262  \n",
       "3325      305.921601    358.743262  \n",
       "3326      305.921601    358.743262  \n",
       "\n",
       "[3327 rows x 10 columns]"
      ]
     },
     "execution_count": 22,
     "metadata": {},
     "output_type": "execute_result"
    }
   ],
   "source": [
    "combined_film_df_clean['roi_domestic(%)'] = (combined_film_df_clean['domestic_gross'] - combined_film_df_clean['production_budget']) / combined_film_df_clean['production_budget'] * 100\n",
    "combined_film_df_clean['roi_foreign(%)'] = (combined_film_df_clean['foreign_gross'] - combined_film_df_clean['production_budget']) / combined_film_df_clean['production_budget'] * 100\n",
    "combined_film_df_clean['roi_total(%)'] = (((combined_film_df_clean['domestic_gross'] + combined_film_df_clean['foreign_gross']) - combined_film_df_clean['production_budget']) / \n",
    "                                            combined_film_df_clean['production_budget'] * 100)\n",
    "combined_film_df_clean"
   ]
  },
  {
   "cell_type": "code",
   "execution_count": 23,
   "metadata": {},
   "outputs": [],
   "source": [
    "# Saving a cleaned and combined dataset as CSV\n",
    "combined_film_df_clean.to_csv('data/combined_film_df_clean.csv')"
   ]
  },
  {
   "cell_type": "markdown",
   "metadata": {},
   "source": [
    "# Exploratory Data Analysis"
   ]
  },
  {
   "cell_type": "markdown",
   "metadata": {},
   "source": [
    "charts:\n",
    "scatter\n",
    "bar"
   ]
  },
  {
   "cell_type": "code",
   "execution_count": 56,
   "metadata": {},
   "outputs": [
    {
     "data": {
      "text/plain": [
       "genres\n",
       "Action         32474616\n",
       "Adventure      43108746\n",
       "Animation      47093284\n",
       "Biography      14550386\n",
       "Comedy         26174926\n",
       "Crime          14288454\n",
       "Documentary     7740718\n",
       "Drama          13815382\n",
       "Family         24039407\n",
       "Fantasy        27890516\n",
       "History        14658827\n",
       "Horror         14335158\n",
       "Music          13826398\n",
       "Musical        13767012\n",
       "Mystery        15342017\n",
       "Romance        14003255\n",
       "Sci-Fi         44361825\n",
       "Sport          14399752\n",
       "Thriller       18579363\n",
       "War             8816144\n",
       "Western        22836653\n",
       "Name: domestic_gross, dtype: int64"
      ]
     },
     "execution_count": 56,
     "metadata": {},
     "output_type": "execute_result"
    }
   ],
   "source": [
    "genres_means = combined_film_df_clean.groupby(['genres'])['domestic_gross'].mean().astype('int64')\n",
    "genres_means"
   ]
  },
  {
   "cell_type": "markdown",
   "metadata": {},
   "source": [
    "## Domestic Gross"
   ]
  },
  {
   "cell_type": "code",
   "execution_count": 29,
   "metadata": {},
   "outputs": [
    {
     "data": {
      "image/png": "[encoded data removed]",
      "text/plain": [
       "<Figure size 864x576 with 1 Axes>"
      ]
     },
     "metadata": {
      "needs_background": "light"
     },
     "output_type": "display_data"
    }
   ],
   "source": [
    "genres_means_dom = combined_film_df_clean.groupby(['genres'])['domestic_gross'].mean().sort_values(ascending=False)\n",
    "\n",
    "fig, ax = plt.subplots(figsize=(12, 8))\n",
    "\n",
    "ax.bar(genres_means_dom.index[:5], genres_means_dom[:5], color=['#a5a0a8', '#013f94', '#0d6917', '#fc0303', '#c083f2'])\n",
    "ax.set_title('Domestic Gross Means', fontsize=20)\n",
    "ax.set_xlabel('Genres', fontsize=15)\n",
    "ax.set_ylabel('Domestic Gross in USD (10M)', fontsize=15);\n",
    "\n",
    "# plt.savefig(\"my_plot.png\", dpi=1080, bbox_inches=\"tight\")"
   ]
  },
  {
   "cell_type": "code",
   "execution_count": 58,
   "metadata": {},
   "outputs": [
    {
     "data": {
      "image/png": "[encoded data removed]",
      "text/plain": [
       "<Figure size 864x576 with 1 Axes>"
      ]
     },
     "metadata": {
      "needs_background": "light"
     },
     "output_type": "display_data"
    }
   ],
   "source": [
    "roi_means_dom = combined_film_df_clean.groupby(['genres'])['roi_domestic(%)'].mean().sort_values(ascending=False)\n",
    "\n",
    "fig, ax = plt.subplots(figsize=(12, 8))\n",
    "\n",
    "ax.bar(roi_means_dom.index[:5], roi_means_dom[:5], )\n",
    "ax.set_title('Domestic Gross Means', fontsize=20)\n",
    "ax.set_xlabel('Genres', fontsize=15)\n",
    "ax.set_ylabel('Domestic Return on Investment (%)', fontsize=15);"
   ]
  },
  {
   "cell_type": "markdown",
   "metadata": {},
   "source": [
    "## Foreign Gross"
   ]
  },
  {
   "cell_type": "code",
   "execution_count": 31,
   "metadata": {},
   "outputs": [
    {
     "data": {
      "image/png": "[encoded data removed]",
      "text/plain": [
       "<Figure size 864x576 with 1 Axes>"
      ]
     },
     "metadata": {
      "needs_background": "light"
     },
     "output_type": "display_data"
    }
   ],
   "source": [
    "genres_means_for = combined_film_df_clean.groupby(['genres'])['foreign_gross'].mean().sort_values(ascending=False)\n",
    "\n",
    "fig, ax = plt.subplots(figsize=(12, 8))\n",
    "\n",
    "ax.bar(genres_means_for.index[:5], genres_means_for[:5], color=['#a5a0a8', '#0d6917', '#013f94', '#fc0303', '#c083f2'])\n",
    "ax.set_title('Foreign Gross Means', fontsize=20)\n",
    "ax.set_xlabel('Genres', fontsize=15)\n",
    "ax.set_ylabel('Foreign Gross (10M)', fontsize=15)\n",
    "ax.ticklabel_format(style='plain', useOffset=False, axis='y');"
   ]
  },
  {
   "cell_type": "code",
   "execution_count": 60,
   "metadata": {},
   "outputs": [
    {
     "data": {
      "image/png": "[encoded data removed]",
      "text/plain": [
       "<Figure size 864x576 with 1 Axes>"
      ]
     },
     "metadata": {
      "needs_background": "light"
     },
     "output_type": "display_data"
    }
   ],
   "source": [
    "roi_means_for = combined_film_df_clean.groupby(['genres'])['roi_foreign(%)'].mean().sort_values(ascending=False)\n",
    "\n",
    "fig, ax = plt.subplots(figsize=(12, 8))\n",
    "\n",
    "ax.bar(roi_means_for.index[:5], roi_means_for[:5])\n",
    "ax.set_title('Foreign Gross Means', fontsize=20)\n",
    "ax.set_xlabel('Genres', fontsize=15)\n",
    "ax.set_ylabel('Foreign Gross (%)', fontsize=15);"
   ]
  },
  {
   "cell_type": "markdown",
   "metadata": {},
   "source": [
    "## Total Return on Investment (Domestic/Foreign)\n"
   ]
  },
  {
   "cell_type": "code",
   "execution_count": 67,
   "metadata": {},
   "outputs": [
    {
     "data": {
      "image/png": "[encoded data removed]",
      "text/plain": [
       "<Figure size 864x576 with 1 Axes>"
      ]
     },
     "metadata": {
      "needs_background": "light"
     },
     "output_type": "display_data"
    }
   ],
   "source": [
    "roi_means_total = combined_film_df_clean.groupby(['genres'])['roi_total(%)'].mean().sort_values(ascending=False)\n",
    "\n",
    "fig, ax = plt.subplots(figsize=(12, 8))\n",
    "\n",
    "ax.bar(roi_means_total.index[:5], roi_means_total[:5])\n",
    "ax.set_title('Return on Investment', fontsize=20)\n",
    "ax.set_xlabel('Genres', fontsize=15)\n",
    "ax.set_ylabel('Total Return on Investment(%)', fontsize=15);"
   ]
  },
  {
   "cell_type": "code",
   "execution_count": 66,
   "metadata": {},
   "outputs": [
    {
     "data": {
      "image/png": "[encoded data removed]",
      "text/plain": [
       "<Figure size 1800x720 with 1 Axes>"
      ]
     },
     "metadata": {
      "needs_background": "light"
     },
     "output_type": "display_data"
    }
   ],
   "source": [
    "roi_means_total = combined_film_df_clean.groupby(['genres'])['roi_total(%)'].mean().sort_values(ascending=False)\n",
    "\n",
    "fig, ax = plt.subplots(figsize=(25, 10))\n",
    "\n",
    "ax.bar(roi_means_total.index, roi_means_total)\n",
    "ax.set_title('Foreign Gross Means', fontsize=20)\n",
    "ax.set_xlabel('Genres', fontsize=15)\n",
    "ax.set_ylabel('Foreign Gross (10M)', fontsize=15);"
   ]
  },
  {
   "cell_type": "markdown",
   "metadata": {},
   "source": [
    "# Conclusions"
   ]
  },
  {
   "cell_type": "markdown",
   "metadata": {},
   "source": [
    "- Top highest gross genres (Domestic/Foreign)\n",
    "    * Animation\n",
    "    * Adventure\n",
    "    * Sci-fi\n",
    "    * Action\n",
    "    * Fantasy\n",
    "\n",
    "\n",
    "- Top Return on Investment Genres\n",
    "    * Mystery\n",
    "    * Horror\n",
    "    * Thriller\n",
    "    * Romance\n",
    "    * Sci-fi\n",
    "    \n",
    "What are the top genres recommened for creating a first film?\n",
    "\n",
    "Which genre(s) has the highest return on investment?\n",
    "\n"
   ]
  },
  {
   "cell_type": "markdown",
   "metadata": {},
   "source": [
    "## Limitations"
   ]
  },
  {
   "cell_type": "markdown",
   "metadata": {},
   "source": [
    "Some limitations with these datasets is that while in the end they do have over 1000 films in common, there was a lot of data that had to be dropped due to simply not having the genre(s) of the film, and by dropping these values we there is a possibility of missing out on film genres thats did extremely well or very poorly that could have changed the outcome. \n",
    "\n",
    "Another limitation I found with the data, was that some films have the same title, but are made by different studios in foreign countries, so any film(s) that happen to have the same title could of had their values, gross values specifically, changed leading to possibley inaccuracies for genres value averages."
   ]
  },
  {
   "cell_type": "markdown",
   "metadata": {},
   "source": [
    "## Recommendations"
   ]
  },
  {
   "cell_type": "markdown",
   "metadata": {},
   "source": [
    "The top 5 genres with highest return on investment are **Mystery, Horror, Thriller, Romance, and Sci-fi**. Even though the list of genres has been narrowed down to 5 it doesnt mean instant success in one of those genres. I recommend further research on the recommended genres, specifically on the films that fall under these genres that were a huge success. \n",
    "\n",
    "Also, the datasets used for this project included films from around the world. Depending on what the primary market the company's focus is on, I would recommend gathering data for that specific market and running the tests again as there is always the **possibility that a film will do really well in one market, but fail in a different market.** "
   ]
  },
  {
   "cell_type": "markdown",
   "metadata": {},
   "source": [
    "## Next Steps"
   ]
  },
  {
   "cell_type": "markdown",
   "metadata": {},
   "source": [
    "Further analyzing the data could help in giving a better understanding to the success rate of a genre. In this project the main focus was narrowing down the genres and this was done by finding the return on investment. Now that we have the top genres, the next steps would be to narrow the dataset to these specific genres, and research the films listed in these genres. Finding out what made these films successful or even failiures.\n",
    "\n",
    "The current data has films that were released between 2010 and 2019, by running these same tests on data containning films from 2020 to 2025, it could help in finding the current movie genre trend, and depending on the results of both test it could help solidify the genre(s) the new studio can go with for its first film. "
   ]
  },
  {
   "cell_type": "code",
   "execution_count": null,
   "metadata": {},
   "outputs": [],
   "source": []
  }
 ],
 "metadata": {
  "kernelspec": {
   "display_name": "Python [conda env:learn-env2] *",
   "language": "python",
   "name": "conda-env-learn-env2-py"
  },
  "language_info": {
   "codemirror_mode": {
    "name": "ipython",
    "version": 3
   },
   "file_extension": ".py",
   "mimetype": "text/x-python",
   "name": "python",
   "nbconvert_exporter": "python",
   "pygments_lexer": "ipython3",
   "version": "3.8.5"
  }
 },
 "nbformat": 4,
 "nbformat_minor": 4
}
